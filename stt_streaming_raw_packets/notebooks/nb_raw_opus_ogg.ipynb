{
 "cells": [
  {
   "cell_type": "code",
   "execution_count": null,
   "id": "2bf3062b-ac91-4cd5-ab6c-1fe54ef347ff",
   "metadata": {},
   "outputs": [],
   "source": [
    "import csv\n",
    "import json\n",
    "import re\n",
    "import base64\n",
    "import io\n",
    "import opuslib\n",
    "import soundfile as sf\n",
    "from pydub import AudioSegment\n",
    "from google.cloud import speech\n",
    "\n",
    "speech_client = speech.SpeechClient()\n"
   ]
  },
  {
   "cell_type": "code",
   "execution_count": null,
   "id": "e505e4ec-2cba-497b-897e-34601a86bbc1",
   "metadata": {},
   "outputs": [],
   "source": [
    "framerate = 16000\n",
    "\n",
    "tsv_filepath = '/home/myuser/my_demo_data.tsv'  # Used for testing purposes"
   ]
  },
  {
   "cell_type": "code",
   "execution_count": null,
   "id": "ef5d141c-bcec-4bd5-8fdf-0fca9e8801a4",
   "metadata": {},
   "outputs": [],
   "source": [
    "\n",
    "def tsv_to_json(filename):\n",
    "    '''\n",
    "    Convert TSV (provided by Sony) to JSON \n",
    "    so that its easier to work with.\n",
    "    Used for testing only.\n",
    "    '''\n",
    "    with open(filename, \"r\") as f:\n",
    "        reader = csv.reader(f, delimiter=\"\\t\")\n",
    "        header = next(reader)\n",
    "        data = [dict(zip(header, row)) for row in reader]\n",
    "    return data\n",
    "\n",
    "\n",
    "def decode_base64_audio(base64_audio, framerate=16000, channels=1, framesize=360):\n",
    "    '''\n",
    "    Decodes base64 encoded audio packets\n",
    "    '''\n",
    "    audio_bytes = base64.b64decode(base64_audio)\n",
    "    decoder = opuslib.Decoder(framerate, channels)\n",
    "    decoded_audio = decoder.decode(audio_bytes, framesize)\n",
    "    return decoded_audio\n",
    "\n",
    "\n",
    "def wrap_opus_packets_in_ogg(raw_packets, framerate, channels=1):\n",
    "    '''\n",
    "    Wrap raw opus packets in an ogg container.\n",
    "    '''\n",
    "    opus_audio = b''.join(raw_packets)\n",
    "    audio_segment = AudioSegment(opus_audio, frame_rate=framerate, sample_width=2, channels=channels)\n",
    "    \n",
    "    in_memory_obj = io.BytesIO()\n",
    "    \n",
    "    # Export audio segment as ogg\n",
    "    audio_segment.export(in_memory_obj, format=\"ogg\")\n",
    "    \n",
    "    # Move the pointer to beginning of memory obj\n",
    "    in_memory_obj.seek(0)\n",
    "    \n",
    "    print(type(in_memory_obj.getvalue()))\n",
    "    return in_memory_obj\n",
    "\n",
    "\n",
    "def stream_ogg_to_speech(speech_client, packets, encoding=speech.RecognitionConfig.AudioEncoding.WEBM_OPUS, sample_rate_hertz=16000, language_code=\"en-US\"):\n",
    "    '''\n",
    "    Stream ogg container to Google Speech to Text using streaming_recognize\n",
    "    '''\n",
    "    # Configure the OGG audio settings\n",
    "    config = speech.RecognitionConfig(\n",
    "        encoding=encoding,\n",
    "        sample_rate_hertz=sample_rate_hertz,\n",
    "        language_code=language_code,\n",
    "    )\n",
    "\n",
    "    # Create a streaming recognizer object\n",
    "    streaming_config = speech.StreamingRecognitionConfig(\n",
    "        config=config, interim_results=True\n",
    "    )\n",
    "\n",
    "    requests = (\n",
    "        # https://cloud.google.com/speech-to-text/docs/reference/rpc/google.cloud.speech.v1#streamingrecognizerequest\n",
    "        speech.StreamingRecognizeRequest(audio_content=chunk) \n",
    "        for chunk in packets\n",
    "    )\n",
    "\n",
    "    \n",
    "    # Start the streaming recognition\n",
    "    responses = speech_client.streaming_recognize(streaming_config, requests)\n",
    "    \n",
    "    print('process streaming responses...')\n",
    "    for response in responses:\n",
    "        for result in response.results:\n",
    "            if result.is_final:\n",
    "                print(\"Final transcription: {}\".format(result.alternatives[0].transcript))\n",
    "            else:\n",
    "                print(\"Interim transcription: {}\".format(result.alternatives[0].transcript))\n",
    "\n"
   ]
  },
  {
   "cell_type": "code",
   "execution_count": null,
   "id": "f98c2cc1-db90-4dd0-9b5d-f12f8baf41bc",
   "metadata": {},
   "outputs": [],
   "source": [
    "audio_records = tsv_to_json(tsv_filepath)"
   ]
  },
  {
   "cell_type": "code",
   "execution_count": null,
   "id": "975322ca-f3df-4433-87b0-c1b0bc042c81",
   "metadata": {
    "tags": []
   },
   "outputs": [],
   "source": [
    "# Extract only the Audio column for each record from the TSV\n",
    "audio_records_base64_encoded = [json.loads(ar['Audio']) for ar in audio_records]\n",
    "print(f'Number of test Audio records in TSV: {len(audio_records_base64_encoded)}')\n"
   ]
  },
  {
   "cell_type": "markdown",
   "id": "236e5bd2-a346-4fe9-977a-f9a5baa0114e",
   "metadata": {},
   "source": [
    "## Test Audio Stream 1"
   ]
  },
  {
   "cell_type": "code",
   "execution_count": null,
   "id": "a0d43fa6-797b-4eee-9009-fd4317a3ee0a",
   "metadata": {},
   "outputs": [],
   "source": [
    "print(f\"Expected text output:\\n{audio_records[0]['Transcription']}\")"
   ]
  },
  {
   "cell_type": "code",
   "execution_count": null,
   "id": "048c2af5-2be6-4f81-ac81-8578e9a7258e",
   "metadata": {},
   "outputs": [],
   "source": [
    "audio_record_row1 = audio_records_base64_encoded[0]\n",
    "\n",
    "decoded_audio_packets = []\n",
    "for base64_audio in audio_record_row1:\n",
    "    decoded_audio_packets.append(decode_base64_audio(base64_audio))\n",
    "\n",
    "print(f'Number of Base64 Audio Packets:   {len(audio_record_row1)}')\n",
    "print(f'Number of decoded audio packets:  {len(decoded_audio_packets)}')"
   ]
  },
  {
   "cell_type": "code",
   "execution_count": null,
   "id": "6ec18918-7f22-4796-bfa6-8443c798a987",
   "metadata": {},
   "outputs": [],
   "source": [
    "print(f'Data type of decoded_audio_packets: {type(decoded_audio_packets[0])}')"
   ]
  },
  {
   "cell_type": "code",
   "execution_count": null,
   "id": "7fb49bcb-49f4-4c70-a503-376ba65c6198",
   "metadata": {},
   "outputs": [],
   "source": [
    "# Wrap raw audio packets in ogg container\n",
    "ogg_container = wrap_opus_packets_in_ogg(decoded_audio_packets, framerate=framerate)"
   ]
  },
  {
   "cell_type": "code",
   "execution_count": null,
   "id": "1e5d5e75-022f-48a6-b1c5-6ca609491d9e",
   "metadata": {},
   "outputs": [],
   "source": [
    "# Send ogg container to Google Speech to Text\n",
    "stream_ogg_to_speech(speech_client, ogg_container)\n"
   ]
  },
  {
   "cell_type": "code",
   "execution_count": null,
   "id": "d57b0ce6-47bc-4754-a51f-1160e1279adf",
   "metadata": {},
   "outputs": [],
   "source": [
    "print(f\"Expected text output:\\n{audio_records[0]['Transcription']}\")"
   ]
  },
  {
   "cell_type": "markdown",
   "id": "91933431-d3f3-4511-8abd-2a6247c91f2c",
   "metadata": {},
   "source": [
    "## Test Audio Stream 2"
   ]
  },
  {
   "cell_type": "code",
   "execution_count": null,
   "id": "041c9f53-190b-4d80-ae0b-6460418e275f",
   "metadata": {},
   "outputs": [],
   "source": [
    "print(f\"Expected text output:\\n{audio_records[1]['Transcription']}\")"
   ]
  },
  {
   "cell_type": "code",
   "execution_count": null,
   "id": "d89c0be6-fc92-4d3f-83a2-9150071da8d7",
   "metadata": {},
   "outputs": [],
   "source": [
    "audio_record_row1 = audio_records_base64_encoded[1]\n",
    "\n",
    "decoded_audio_packets = []\n",
    "for base64_audio in audio_record_row1:\n",
    "    decoded_audio_packets.append(decode_base64_audio(base64_audio))\n",
    "\n",
    "print(f'Number of Base64 Audio Packets:   {len(audio_record_row1)}')\n",
    "print(f'Number of decoded audio packets:  {len(decoded_audio_packets)}')"
   ]
  },
  {
   "cell_type": "code",
   "execution_count": null,
   "id": "554d1c2b-dc10-4dec-aefa-e8d22f5fda27",
   "metadata": {},
   "outputs": [],
   "source": [
    "print(f'Data type of decoded_audio_packets: {type(decoded_audio_packets[0])}')"
   ]
  },
  {
   "cell_type": "code",
   "execution_count": null,
   "id": "dc0e62dd-15b5-4bc7-8d92-da5b977ac60c",
   "metadata": {},
   "outputs": [],
   "source": [
    "# Wrap raw audio packets in ogg container\n",
    "ogg_container = wrap_opus_packets_in_ogg(decoded_audio_packets, framerate=framerate)"
   ]
  },
  {
   "cell_type": "code",
   "execution_count": null,
   "id": "2a326b2b-f2da-4e3e-b845-e4ef493a94b8",
   "metadata": {},
   "outputs": [],
   "source": [
    "# Send ogg container to Google Speech to Text\n",
    "stream_ogg_to_speech(speech_client, ogg_container)"
   ]
  },
  {
   "cell_type": "code",
   "execution_count": null,
   "id": "9835493c-4758-47da-88be-112cabbe94be",
   "metadata": {},
   "outputs": [],
   "source": [
    "print(f\"Expected text output:\\n{audio_records[1]['Transcription']}\")"
   ]
  },
  {
   "cell_type": "markdown",
   "id": "4546489d-6cd5-43ca-879d-37f95021ee5f",
   "metadata": {},
   "source": [
    "## Test Audio Stream 3"
   ]
  },
  {
   "cell_type": "code",
   "execution_count": null,
   "id": "808d1406-a317-4719-afc8-6cc3f00c517f",
   "metadata": {},
   "outputs": [],
   "source": [
    "print(f\"Expected text output:\\n{audio_records[2]['Transcription']}\")"
   ]
  },
  {
   "cell_type": "code",
   "execution_count": null,
   "id": "b80ad855-0ff1-4ce3-836f-ef601cda2169",
   "metadata": {},
   "outputs": [],
   "source": [
    "audio_record_row1 = audio_records_base64_encoded[2]\n",
    "\n",
    "decoded_audio_packets = []\n",
    "for base64_audio in audio_record_row1:\n",
    "    decoded_audio_packets.append(decode_base64_audio(base64_audio))\n",
    "\n",
    "print(f'Number of Base64 Audio Packets:   {len(audio_record_row1)}')\n",
    "print(f'Number of decoded audio packets:  {len(decoded_audio_packets)}')"
   ]
  },
  {
   "cell_type": "code",
   "execution_count": null,
   "id": "add91c4c-877f-403a-8b93-5d8caee9abca",
   "metadata": {},
   "outputs": [],
   "source": [
    "print(f'Data type of decoded_audio_packets: {type(decoded_audio_packets[0])}')"
   ]
  },
  {
   "cell_type": "code",
   "execution_count": null,
   "id": "0aad0c34-a6a9-4ef7-ac7b-b0f489ecd17c",
   "metadata": {},
   "outputs": [],
   "source": [
    "# Wrap raw audio packets in ogg container\n",
    "ogg_container = wrap_opus_packets_in_ogg(decoded_audio_packets, framerate=framerate)"
   ]
  },
  {
   "cell_type": "code",
   "execution_count": null,
   "id": "0fc1ef0d-0401-476f-be41-9b3e22267b48",
   "metadata": {},
   "outputs": [],
   "source": [
    "ogg_container"
   ]
  },
  {
   "cell_type": "code",
   "execution_count": null,
   "id": "1a5b04ae-85b4-401e-b45f-082ac37784dc",
   "metadata": {},
   "outputs": [],
   "source": [
    "# Send ogg container to Google Speech to Text\n",
    "stream_ogg_to_speech(speech_client, ogg_container)"
   ]
  },
  {
   "cell_type": "code",
   "execution_count": null,
   "id": "e5008e96-cf6f-4ff3-b578-cc4b5021855c",
   "metadata": {},
   "outputs": [],
   "source": [
    "print(f\"Expected text output:\\n{audio_records[2]['Transcription']}\")"
   ]
  },
  {
   "cell_type": "code",
   "execution_count": null,
   "id": "a8215bc3-6d45-4db0-bf33-1a90bd66e363",
   "metadata": {},
   "outputs": [],
   "source": []
  },
  {
   "cell_type": "code",
   "execution_count": null,
   "id": "f417c249-b5e3-4bbf-aa0d-19b974d09e6b",
   "metadata": {},
   "outputs": [],
   "source": []
  }
 ],
 "metadata": {
  "environment": {
   "kernel": "python3",
   "name": "tf2-gpu.2-8.m108",
   "type": "gcloud",
   "uri": "gcr.io/deeplearning-platform-release/tf2-gpu.2-8:m108"
  },
  "kernelspec": {
   "display_name": "Python 3 (ipykernel)",
   "language": "python",
   "name": "python3"
  },
  "language_info": {
   "codemirror_mode": {
    "name": "ipython",
    "version": 3
   },
   "file_extension": ".py",
   "mimetype": "text/x-python",
   "name": "python",
   "nbconvert_exporter": "python",
   "pygments_lexer": "ipython3",
   "version": "3.7.12"
  }
 },
 "nbformat": 4,
 "nbformat_minor": 5
}
